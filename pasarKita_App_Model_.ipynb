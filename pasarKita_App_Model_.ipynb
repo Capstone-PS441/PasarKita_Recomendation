{
  "cells": [
    {
      "cell_type": "code",
      "execution_count": null,
      "metadata": {
        "id": "1IdWzmMG7SSi",
        "outputId": "0d65cfa9-9a50-4953-f1ac-22591311e342",
        "colab": {
          "base_uri": "https://localhost:8080/"
        }
      },
      "outputs": [
        {
          "output_type": "stream",
          "name": "stdout",
          "text": [
            "\u001b[?25l     \u001b[90m━━━━━━━━━━━━━━━━━━━━━━━━━━━━━━━━━━━━━━━━\u001b[0m \u001b[32m0.0/96.2 kB\u001b[0m \u001b[31m?\u001b[0m eta \u001b[36m-:--:--\u001b[0m\r\u001b[2K     \u001b[90m━━━━━━━━━━━━━━━━━━━━━━━━━━━━━━━━━━━━━━━━\u001b[0m \u001b[32m96.2/96.2 kB\u001b[0m \u001b[31m9.6 MB/s\u001b[0m eta \u001b[36m0:00:00\u001b[0m\n",
            "\u001b[?25h"
          ]
        }
      ],
      "source": [
        "!pip install -q tensorflow-recommenders"
      ]
    },
    {
      "cell_type": "code",
      "execution_count": null,
      "metadata": {
        "id": "66yVItCLN4OO"
      },
      "outputs": [],
      "source": [
        "import numpy as np\n",
        "import tensorflow as tf\n",
        "import pandas as pd\n",
        "from tensorflow import keras\n",
        "import tensorflow_recommenders as tfrs\n",
        "from sklearn.model_selection import train_test_split\n",
        "from tensorflow.keras.callbacks import ModelCheckpoint\n",
        "from keras.utils import register_keras_serializable\n",
        "import matplotlib.pyplot as plt"
      ]
    },
    {
      "cell_type": "code",
      "execution_count": null,
      "metadata": {
        "id": "qIRD-4DG6e-y"
      },
      "outputs": [],
      "source": [
        "data = pd.read_csv('Data Transaksi FIX.csv')"
      ]
    },
    {
      "cell_type": "code",
      "execution_count": null,
      "metadata": {
        "id": "m-U-2AoEhZJP",
        "colab": {
          "base_uri": "https://localhost:8080/",
          "height": 206
        },
        "outputId": "defe64da-d273-4d89-e219-b3500ae2307b"
      },
      "outputs": [
        {
          "output_type": "execute_result",
          "data": {
            "text/plain": [
              "   Id_member     Tanggal Deskripsi_barang             Kategori\n",
              "0       1808  2015-07-21             apel          Buah-buahan\n",
              "1       2552  2015-05-01        susu sapi  Makanan dan Minuman\n",
              "2       2300  2015-09-19            nanas          Buah-buahan\n",
              "3       1187  2015-12-12            bayam              Sayuran\n",
              "4       3037  2015-01-02        susu sapi  Makanan dan Minuman"
            ],
            "text/html": [
              "\n",
              "  <div id=\"df-14fba6f3-bf12-4e6e-b157-a3759363b48e\">\n",
              "    <div class=\"colab-df-container\">\n",
              "      <div>\n",
              "<style scoped>\n",
              "    .dataframe tbody tr th:only-of-type {\n",
              "        vertical-align: middle;\n",
              "    }\n",
              "\n",
              "    .dataframe tbody tr th {\n",
              "        vertical-align: top;\n",
              "    }\n",
              "\n",
              "    .dataframe thead th {\n",
              "        text-align: right;\n",
              "    }\n",
              "</style>\n",
              "<table border=\"1\" class=\"dataframe\">\n",
              "  <thead>\n",
              "    <tr style=\"text-align: right;\">\n",
              "      <th></th>\n",
              "      <th>Id_member</th>\n",
              "      <th>Tanggal</th>\n",
              "      <th>Deskripsi_barang</th>\n",
              "      <th>Kategori</th>\n",
              "    </tr>\n",
              "  </thead>\n",
              "  <tbody>\n",
              "    <tr>\n",
              "      <th>0</th>\n",
              "      <td>1808</td>\n",
              "      <td>2015-07-21</td>\n",
              "      <td>apel</td>\n",
              "      <td>Buah-buahan</td>\n",
              "    </tr>\n",
              "    <tr>\n",
              "      <th>1</th>\n",
              "      <td>2552</td>\n",
              "      <td>2015-05-01</td>\n",
              "      <td>susu sapi</td>\n",
              "      <td>Makanan dan Minuman</td>\n",
              "    </tr>\n",
              "    <tr>\n",
              "      <th>2</th>\n",
              "      <td>2300</td>\n",
              "      <td>2015-09-19</td>\n",
              "      <td>nanas</td>\n",
              "      <td>Buah-buahan</td>\n",
              "    </tr>\n",
              "    <tr>\n",
              "      <th>3</th>\n",
              "      <td>1187</td>\n",
              "      <td>2015-12-12</td>\n",
              "      <td>bayam</td>\n",
              "      <td>Sayuran</td>\n",
              "    </tr>\n",
              "    <tr>\n",
              "      <th>4</th>\n",
              "      <td>3037</td>\n",
              "      <td>2015-01-02</td>\n",
              "      <td>susu sapi</td>\n",
              "      <td>Makanan dan Minuman</td>\n",
              "    </tr>\n",
              "  </tbody>\n",
              "</table>\n",
              "</div>\n",
              "      <button class=\"colab-df-convert\" onclick=\"convertToInteractive('df-14fba6f3-bf12-4e6e-b157-a3759363b48e')\"\n",
              "              title=\"Convert this dataframe to an interactive table.\"\n",
              "              style=\"display:none;\">\n",
              "        \n",
              "  <svg xmlns=\"http://www.w3.org/2000/svg\" height=\"24px\"viewBox=\"0 0 24 24\"\n",
              "       width=\"24px\">\n",
              "    <path d=\"M0 0h24v24H0V0z\" fill=\"none\"/>\n",
              "    <path d=\"M18.56 5.44l.94 2.06.94-2.06 2.06-.94-2.06-.94-.94-2.06-.94 2.06-2.06.94zm-11 1L8.5 8.5l.94-2.06 2.06-.94-2.06-.94L8.5 2.5l-.94 2.06-2.06.94zm10 10l.94 2.06.94-2.06 2.06-.94-2.06-.94-.94-2.06-.94 2.06-2.06.94z\"/><path d=\"M17.41 7.96l-1.37-1.37c-.4-.4-.92-.59-1.43-.59-.52 0-1.04.2-1.43.59L10.3 9.45l-7.72 7.72c-.78.78-.78 2.05 0 2.83L4 21.41c.39.39.9.59 1.41.59.51 0 1.02-.2 1.41-.59l7.78-7.78 2.81-2.81c.8-.78.8-2.07 0-2.86zM5.41 20L4 18.59l7.72-7.72 1.47 1.35L5.41 20z\"/>\n",
              "  </svg>\n",
              "      </button>\n",
              "      \n",
              "  <style>\n",
              "    .colab-df-container {\n",
              "      display:flex;\n",
              "      flex-wrap:wrap;\n",
              "      gap: 12px;\n",
              "    }\n",
              "\n",
              "    .colab-df-convert {\n",
              "      background-color: #E8F0FE;\n",
              "      border: none;\n",
              "      border-radius: 50%;\n",
              "      cursor: pointer;\n",
              "      display: none;\n",
              "      fill: #1967D2;\n",
              "      height: 32px;\n",
              "      padding: 0 0 0 0;\n",
              "      width: 32px;\n",
              "    }\n",
              "\n",
              "    .colab-df-convert:hover {\n",
              "      background-color: #E2EBFA;\n",
              "      box-shadow: 0px 1px 2px rgba(60, 64, 67, 0.3), 0px 1px 3px 1px rgba(60, 64, 67, 0.15);\n",
              "      fill: #174EA6;\n",
              "    }\n",
              "\n",
              "    [theme=dark] .colab-df-convert {\n",
              "      background-color: #3B4455;\n",
              "      fill: #D2E3FC;\n",
              "    }\n",
              "\n",
              "    [theme=dark] .colab-df-convert:hover {\n",
              "      background-color: #434B5C;\n",
              "      box-shadow: 0px 1px 3px 1px rgba(0, 0, 0, 0.15);\n",
              "      filter: drop-shadow(0px 1px 2px rgba(0, 0, 0, 0.3));\n",
              "      fill: #FFFFFF;\n",
              "    }\n",
              "  </style>\n",
              "\n",
              "      <script>\n",
              "        const buttonEl =\n",
              "          document.querySelector('#df-14fba6f3-bf12-4e6e-b157-a3759363b48e button.colab-df-convert');\n",
              "        buttonEl.style.display =\n",
              "          google.colab.kernel.accessAllowed ? 'block' : 'none';\n",
              "\n",
              "        async function convertToInteractive(key) {\n",
              "          const element = document.querySelector('#df-14fba6f3-bf12-4e6e-b157-a3759363b48e');\n",
              "          const dataTable =\n",
              "            await google.colab.kernel.invokeFunction('convertToInteractive',\n",
              "                                                     [key], {});\n",
              "          if (!dataTable) return;\n",
              "\n",
              "          const docLinkHtml = 'Like what you see? Visit the ' +\n",
              "            '<a target=\"_blank\" href=https://colab.research.google.com/notebooks/data_table.ipynb>data table notebook</a>'\n",
              "            + ' to learn more about interactive tables.';\n",
              "          element.innerHTML = '';\n",
              "          dataTable['output_type'] = 'display_data';\n",
              "          await google.colab.output.renderOutput(dataTable, element);\n",
              "          const docLink = document.createElement('div');\n",
              "          docLink.innerHTML = docLinkHtml;\n",
              "          element.appendChild(docLink);\n",
              "        }\n",
              "      </script>\n",
              "    </div>\n",
              "  </div>\n",
              "  "
            ]
          },
          "metadata": {},
          "execution_count": 4
        }
      ],
      "source": [
        "data.head()"
      ]
    },
    {
      "cell_type": "code",
      "execution_count": null,
      "metadata": {
        "id": "cSQniC0D8jAu",
        "colab": {
          "base_uri": "https://localhost:8080/"
        },
        "outputId": "18226895-93b1-4071-eb5c-5c081c45b214"
      },
      "outputs": [
        {
          "output_type": "stream",
          "name": "stdout",
          "text": [
            "       Id_member     Tanggal Deskripsi_barang             Kategori  Transaksi  \\\n",
            "0           1808  2015-07-21             apel          Buah-buahan       1032   \n",
            "1           2552  2015-05-01        susu sapi  Makanan dan Minuman       2502   \n",
            "2           2300  2015-09-19            nanas          Buah-buahan        744   \n",
            "3           1187  2015-12-12            bayam              Sayuran       1898   \n",
            "4           3037  2015-01-02        susu sapi  Makanan dan Minuman       2502   \n",
            "...          ...         ...              ...                  ...        ...   \n",
            "38760       4471  2014-08-10             keju  Makanan dan Minuman        258   \n",
            "38761       2022  2014-02-23           permen  Makanan dan Minuman        219   \n",
            "38762       1097  2014-04-16          kue bar  Makanan dan Minuman         93   \n",
            "38763       1510  2014-03-12            udang           Ikan Segar        518   \n",
            "38764       1521  2014-12-26            belut           Ikan Segar        177   \n",
            "\n",
            "          Skala  \n",
            "0      0.408926  \n",
            "1      1.000000  \n",
            "2      0.293124  \n",
            "3      0.757137  \n",
            "4      1.000000  \n",
            "...         ...  \n",
            "38760  0.097708  \n",
            "38761  0.082027  \n",
            "38762  0.031363  \n",
            "38763  0.202252  \n",
            "38764  0.065139  \n",
            "\n",
            "[38765 rows x 6 columns]\n"
          ]
        }
      ],
      "source": [
        "#Using pandas way, Series.value_counts()\n",
        "df1 = data['Deskripsi_barang'].value_counts()\n",
        "df1 = data.Deskripsi_barang.value_counts\n",
        "\n",
        "# Using groupby() & count()\n",
        "df1 = data.groupby('Deskripsi_barang').count()\n",
        "\n",
        "# Add frequecy count as new column to DataFrame\n",
        "data['Transaksi'] = data.groupby('Deskripsi_barang')['Deskripsi_barang'].transform('count')\n",
        "\n",
        "# Mengubah skala freq_count menjadi skala 0-1 (normalisasi mean)\n",
        "min_count = data['Transaksi'].min()\n",
        "max_count = data['Transaksi'].max()\n",
        "data['Skala'] = (data['Transaksi'] - min_count) / (max_count - min_count)\n",
        "\n",
        "print(data)"
      ]
    },
    {
      "cell_type": "code",
      "execution_count": null,
      "metadata": {
        "id": "DLM-wPTC_2z4"
      },
      "outputs": [],
      "source": [
        "users = data['Id_member'].unique()\n",
        "items = data['Deskripsi_barang'].unique()\n",
        "\n",
        "user_indices = {user: index for index, user in enumerate(users)}\n",
        "item_indices = {item: index for index, item in enumerate(items)}\n",
        "\n",
        "num_users = len(users)\n",
        "num_items = len(items)\n",
        "transaction_matrix = np.zeros((num_users, num_items))\n",
        "for index, row in data.iterrows():\n",
        "    user = row['Id_member']\n",
        "    item = row['Deskripsi_barang']\n",
        "    Transaksi = row['Skala']\n",
        "    user_index = user_indices[user]\n",
        "    item_index = item_indices[item]\n",
        "    transaction_matrix[user_index, item_index] = Transaksi"
      ]
    },
    {
      "cell_type": "code",
      "source": [
        "train_matrix, val_matrix = train_test_split(transaction_matrix, test_size=0.2, random_state=42)\n",
        "\n",
        "train_dataset = tf.data.Dataset.from_tensor_slices((train_matrix, train_matrix))\n",
        "train_dataset = train_dataset.batch(64)\n",
        "\n",
        "val_dataset = tf.data.Dataset.from_tensor_slices((val_matrix, val_matrix))\n",
        "val_dataset = val_dataset.batch(64)"
      ],
      "metadata": {
        "id": "tigJoLBfx_NI"
      },
      "execution_count": null,
      "outputs": []
    },
    {
      "cell_type": "code",
      "execution_count": null,
      "metadata": {
        "id": "tgpbY84s6moZ"
      },
      "outputs": [],
      "source": [
        "class RecommenderModel(tfrs.Model):\n",
        "    def __init__(self):\n",
        "        super(RecommenderModel, self).__init__()\n",
        "        self.user_model = tf.keras.Sequential([\n",
        "            tf.keras.layers.Dense(256, activation='relu'),\n",
        "            tf.keras.layers.Dense(128, activation='relu'),\n",
        "            tf.keras.layers.Dense(64)\n",
        "        ])\n",
        "        self.item_model = tf.keras.Sequential([\n",
        "            tf.keras.layers.Dense(256, activation='relu'),\n",
        "            tf.keras.layers.Dense(128, activation='relu'),\n",
        "            tf.keras.layers.Dense(64)\n",
        "        ])\n",
        "        self.rating_model = tf.keras.Sequential([\n",
        "            tf.keras.layers.Dense(1)\n",
        "        ])\n",
        "        self.task = tfrs.tasks.Ranking(\n",
        "            loss=tf.keras.losses.MeanSquaredError(),\n",
        "            metrics=[tf.keras.metrics.RootMeanSquaredError()]\n",
        "        )\n",
        "\n",
        "    def compute_loss(self, inputs, training=False):\n",
        "        user_embeddings = self.user_model(inputs[0])\n",
        "        item_embeddings = self.item_model(inputs[1])\n",
        "        ratings = self.rating_model(tf.concat([user_embeddings, item_embeddings], axis=1))\n",
        "        return self.task(labels=inputs[1], predictions=ratings)\n",
        "\n",
        "    def call(self, inputs):\n",
        "        return self.compute_loss(inputs)"
      ]
    },
    {
      "cell_type": "code",
      "execution_count": null,
      "metadata": {
        "id": "6BmzQO8gAtXw",
        "colab": {
          "base_uri": "https://localhost:8080/"
        },
        "outputId": "98bac2dd-2263-4cc2-940b-d2000eb8a2f3"
      },
      "outputs": [
        {
          "output_type": "stream",
          "name": "stdout",
          "text": [
            "Model: \"recommender_model\"\n",
            "_________________________________________________________________\n",
            " Layer (type)                Output Shape              Param #   \n",
            "=================================================================\n",
            " sequential (Sequential)     (64, 64)                  72640     \n",
            "                                                                 \n",
            " sequential_1 (Sequential)   (64, 64)                  72640     \n",
            "                                                                 \n",
            " sequential_2 (Sequential)   (64, 1)                   129       \n",
            "                                                                 \n",
            " ranking (Ranking)           multiple                  0         \n",
            "                                                                 \n",
            "=================================================================\n",
            "Total params: 145,409\n",
            "Trainable params: 145,409\n",
            "Non-trainable params: 0\n",
            "_________________________________________________________________\n"
          ]
        }
      ],
      "source": [
        "model = RecommenderModel()\n",
        "\n",
        "sample_batch = next(iter(train_dataset))\n",
        "model(sample_batch)\n",
        "\n",
        "model.summary()"
      ]
    },
    {
      "cell_type": "code",
      "execution_count": null,
      "metadata": {
        "id": "0F5PRb0tXPcf",
        "colab": {
          "base_uri": "https://localhost:8080/"
        },
        "outputId": "6814299f-9f25-4549-97ba-b0e56f835f19"
      },
      "outputs": [
        {
          "output_type": "stream",
          "name": "stdout",
          "text": [
            "Epoch 1/10\n",
            "49/49 [==============================] - 2s 11ms/step - root_mean_squared_error: 0.1174 - loss: 0.0137 - regularization_loss: 0.0000e+00 - total_loss: 0.0137 - val_root_mean_squared_error: 0.1128 - val_loss: 0.0115 - val_regularization_loss: 0.0000e+00 - val_total_loss: 0.0115\n",
            "Epoch 2/10\n",
            "49/49 [==============================] - 0s 7ms/step - root_mean_squared_error: 0.1131 - loss: 0.0128 - regularization_loss: 0.0000e+00 - total_loss: 0.0128 - val_root_mean_squared_error: 0.1126 - val_loss: 0.0115 - val_regularization_loss: 0.0000e+00 - val_total_loss: 0.0115\n",
            "Epoch 3/10\n",
            "49/49 [==============================] - 0s 7ms/step - root_mean_squared_error: 0.1129 - loss: 0.0127 - regularization_loss: 0.0000e+00 - total_loss: 0.0127 - val_root_mean_squared_error: 0.1125 - val_loss: 0.0115 - val_regularization_loss: 0.0000e+00 - val_total_loss: 0.0115\n",
            "Epoch 4/10\n",
            "49/49 [==============================] - 0s 7ms/step - root_mean_squared_error: 0.1128 - loss: 0.0127 - regularization_loss: 0.0000e+00 - total_loss: 0.0127 - val_root_mean_squared_error: 0.1124 - val_loss: 0.0115 - val_regularization_loss: 0.0000e+00 - val_total_loss: 0.0115\n",
            "Epoch 5/10\n",
            "49/49 [==============================] - 1s 11ms/step - root_mean_squared_error: 0.1128 - loss: 0.0127 - regularization_loss: 0.0000e+00 - total_loss: 0.0127 - val_root_mean_squared_error: 0.1124 - val_loss: 0.0115 - val_regularization_loss: 0.0000e+00 - val_total_loss: 0.0115\n",
            "Epoch 6/10\n",
            "49/49 [==============================] - 1s 11ms/step - root_mean_squared_error: 0.1128 - loss: 0.0127 - regularization_loss: 0.0000e+00 - total_loss: 0.0127 - val_root_mean_squared_error: 0.1124 - val_loss: 0.0115 - val_regularization_loss: 0.0000e+00 - val_total_loss: 0.0115\n",
            "Epoch 7/10\n",
            "49/49 [==============================] - 1s 11ms/step - root_mean_squared_error: 0.1128 - loss: 0.0127 - regularization_loss: 0.0000e+00 - total_loss: 0.0127 - val_root_mean_squared_error: 0.1124 - val_loss: 0.0115 - val_regularization_loss: 0.0000e+00 - val_total_loss: 0.0115\n",
            "Epoch 8/10\n",
            "49/49 [==============================] - 0s 8ms/step - root_mean_squared_error: 0.1127 - loss: 0.0127 - regularization_loss: 0.0000e+00 - total_loss: 0.0127 - val_root_mean_squared_error: 0.1124 - val_loss: 0.0115 - val_regularization_loss: 0.0000e+00 - val_total_loss: 0.0115\n",
            "Epoch 9/10\n",
            "49/49 [==============================] - 0s 7ms/step - root_mean_squared_error: 0.1127 - loss: 0.0127 - regularization_loss: 0.0000e+00 - total_loss: 0.0127 - val_root_mean_squared_error: 0.1124 - val_loss: 0.0115 - val_regularization_loss: 0.0000e+00 - val_total_loss: 0.0115\n",
            "Epoch 10/10\n",
            "49/49 [==============================] - 0s 7ms/step - root_mean_squared_error: 0.1127 - loss: 0.0127 - regularization_loss: 0.0000e+00 - total_loss: 0.0127 - val_root_mean_squared_error: 0.1124 - val_loss: 0.0115 - val_regularization_loss: 0.0000e+00 - val_total_loss: 0.0115\n"
          ]
        }
      ],
      "source": [
        "model.compile(optimizer=tf.keras.optimizers.Adam(learning_rate=0.001))\n",
        "\n",
        "history = model.fit(train_dataset, epochs=10, validation_data=val_dataset)"
      ]
    },
    {
      "cell_type": "code",
      "execution_count": null,
      "metadata": {
        "id": "BCukGYBSZSVX",
        "colab": {
          "base_uri": "https://localhost:8080/"
        },
        "outputId": "aa6f3f05-29d5-4eaf-c855-4aea87be8ff8"
      },
      "outputs": [
        {
          "output_type": "stream",
          "name": "stdout",
          "text": [
            "13/13 [==============================] - 0s 3ms/step - root_mean_squared_error: 0.1124 - loss: 0.0125 - regularization_loss: 0.0000e+00 - total_loss: 0.0125\n"
          ]
        },
        {
          "output_type": "execute_result",
          "data": {
            "text/plain": [
              "[0.11238101124763489, 0.011463710106909275, 0, 0.011463710106909275]"
            ]
          },
          "metadata": {},
          "execution_count": 11
        }
      ],
      "source": [
        "model.evaluate(val_dataset)"
      ]
    },
    {
      "cell_type": "code",
      "source": [
        "# Mengambil loss dan RMSE dari history\n",
        "loss = history.history['loss']\n",
        "val_loss = history.history['val_loss']\n",
        "rmse = history.history['root_mean_squared_error']\n",
        "val_rmse = history.history['val_root_mean_squared_error']\n",
        "\n",
        "# Membuat grafik loss\n",
        "plt.figure(figsize=(12, 6))\n",
        "plt.plot(loss, label='Training Loss')\n",
        "plt.plot(val_loss, label='Validation Loss')\n",
        "plt.title('Loss')\n",
        "plt.xlabel('Epoch')\n",
        "plt.ylabel('Loss')\n",
        "plt.legend()\n",
        "plt.show()\n",
        "\n",
        "# Membuat grafik RMSE\n",
        "plt.figure(figsize=(12, 6))\n",
        "plt.plot(rmse, label='Training RMSE')\n",
        "plt.plot(val_rmse, label='Validation RMSE')\n",
        "plt.title('Root Mean Squared Error (RMSE)')\n",
        "plt.xlabel('Epoch')\n",
        "plt.ylabel('RMSE')\n",
        "plt.legend()\n",
        "plt.show()"
      ],
      "metadata": {
        "colab": {
          "base_uri": "https://localhost:8080/",
          "height": 935
        },
        "id": "wIbx5JRH6Zra",
        "outputId": "d45d97eb-f9c5-4653-e4ae-4cb9a083fb38"
      },
      "execution_count": null,
      "outputs": [
        {
          "output_type": "display_data",
          "data": {
            "text/plain": [
              "<Figure size 1200x600 with 1 Axes>"
            ],
            "image/png": "[encoded data removed]"
          },
          "metadata": {}
        },
        {
          "output_type": "display_data",
          "data": {
            "text/plain": [
              "<Figure size 1200x600 with 1 Axes>"
            ],
            "image/png": "[encoded data removed]"
          },
          "metadata": {}
        }
      ]
    },
    {
      "cell_type": "code",
      "execution_count": null,
      "metadata": {
        "id": "mipQS6OxAvvU",
        "colab": {
          "base_uri": "https://localhost:8080/"
        },
        "outputId": "872cc057-88ee-4777-9f6a-0255f5306c1c"
      },
      "outputs": [
        {
          "output_type": "stream",
          "name": "stdout",
          "text": [
            "Top 5 recommendations for user  1020\n",
            "Recommendation 1: ikan sarden (Confidence Score: 0.06)\n",
            "Recommendation 2: keju (Confidence Score: 0.05)\n",
            "Recommendation 3: gurita (Confidence Score: 0.04)\n",
            "Recommendation 4: sosis (Confidence Score: 0.04)\n",
            "Recommendation 5: gula (Confidence Score: 0.04)\n"
          ]
        }
      ],
      "source": [
        "# Generate recommendations\n",
        "target_user = 1020\n",
        "user_index = user_indices[target_user]\n",
        "user_input = tf.expand_dims(train_matrix[user_index], axis=0)\n",
        "recommendations = model.user_model(user_input)\n",
        "\n",
        "# Get the top recommendations with confidence scores\n",
        "top_items_indices = np.argsort(recommendations.numpy()[0])[::-1][:5]\n",
        "top_items = [items[i] for i in top_items_indices]\n",
        "confidence_scores = recommendations.numpy()[0][top_items_indices]\n",
        "\n",
        "print(f\"Top 5 recommendations for user \", target_user)\n",
        "for i, (item, score) in enumerate(zip(top_items, confidence_scores)):\n",
        "    print(f\"Recommendation {i+1}: {item} (Confidence Score: {score:.2f})\")"
      ]
    },
    {
      "cell_type": "code",
      "execution_count": null,
      "metadata": {
        "id": "kGgFmnwYYmMo",
        "colab": {
          "base_uri": "https://localhost:8080/"
        },
        "outputId": "8c4d4c5e-fb92-4ebe-dcb1-9ae47317ce4d"
      },
      "outputs": [
        {
          "output_type": "stream",
          "name": "stderr",
          "text": [
            "WARNING:tensorflow:Compiled the loaded model, but the compiled metrics have yet to be built. `model.compile_metrics` will be empty until you train or evaluate the model.\n"
          ]
        }
      ],
      "source": [
        "import pickle\n",
        "pickle.dump(model,open('model.pkl','wb'))\n",
        "# model.save('my_model', save_format='tf')\n",
        "tf.keras.models.save_model(model.user_model, 'output_model.h5', save_format='h5')"
      ]
    },
    {
      "cell_type": "code",
      "execution_count": null,
      "metadata": {
        "id": "OUB-oYiPKs9G"
      },
      "outputs": [],
      "source": [
        "\n",
        "# # Load the SavedModel\n",
        "# saved_model_dir = '/content/my_model'\n",
        "# loaded_model = tf.saved_model.load(saved_model_dir)\n",
        "\n",
        "# # Convert the model to TensorFlow Lite format with TF Select\n",
        "# converter = tf.lite.TFLiteConverter.from_saved_model(saved_model_dir)\n",
        "# converter.optimization = [tf.lite.Optimize.DEFAULT]\n",
        "# converter.experimental_new_converter = True\n",
        "# converter.target_spec.supported_ops = [\n",
        "#     tf.lite.OpsSet.SELECT_TF_OPS\n",
        "# ]\n",
        "# tflite_model = converter.convert()\n",
        "\n",
        "# # Save the TensorFlow Lite model to a file\n",
        "# with open(\"model.tflite\", \"wb\") as f:\n",
        "#     f.write(tflite_model)\n",
        "\n",
        "# import tensorflow as tf\n",
        "\n",
        "# # Assuming 'model' is your trained model\n",
        "# # Convert the model to TFLite format with TF Select enabled\n",
        "# converter = tf.lite.TFLiteConverter.from_keras_model(model)\n",
        "# converter.target_spec.supported_ops = [tf.lite.OpsSet.TFLITE_BUILTINS, tf.lite.OpsSet.SELECT_TF_OPS]\n",
        "# tflite_model = converter.convert()\n",
        "\n",
        "# # Save the TFLite model to a file\n",
        "# with open('recommendation_model.tflite', 'wb') as f:\n",
        "#     f.write(tflite_model)\n"
      ]
    }
  ],
  "metadata": {
    "colab": {
      "provenance": []
    },
    "kernelspec": {
      "display_name": "Python 3",
      "name": "python3"
    },
    "language_info": {
      "name": "python"
    }
  },
  "nbformat": 4,
  "nbformat_minor": 0
}